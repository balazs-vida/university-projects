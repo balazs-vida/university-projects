{
 "cells": [
  {
   "cell_type": "code",
   "execution_count": 1,
   "metadata": {
    "collapsed": true
   },
   "outputs": [],
   "source": [
    "\"\"\"\n",
    "Lajos Gergó: Numerikus módszerek [Numerical methods], Chapter 10.6., Example 1\n",
    "(p. 318)\n",
    "\"\"\"\n",
    "\n",
    "import numpy as np\n",
    "%matplotlib inline\n",
    "import matplotlib.pyplot as plt\n",
    "from runge_kutta_e2 import *\n",
    "from printSoln import *"
   ]
  },
  {
   "cell_type": "code",
   "execution_count": 2,
   "metadata": {
    "collapsed": true
   },
   "outputs": [],
   "source": [
    "def F(x, y):\n",
    "    F = np.zeros(1)\n",
    "    F[0] = x**2 * y[0] # y' = x^2 * y\n",
    "    return F"
   ]
  },
  {
   "cell_type": "code",
   "execution_count": 4,
   "metadata": {
    "collapsed": false
   },
   "outputs": [
    {
     "name": "stdout",
     "output_type": "stream",
     "text": [
      "\n",
      " x   y[ 0 ]  \n",
      "   0.0000e+00    1.0000e+00 \n",
      "   2.2349e-01    1.0037e+00 \n",
      "   4.4131e-01    1.0291e+00 \n",
      "   6.3975e-01    1.0912e+00 \n",
      "   8.1053e-01    1.1942e+00 \n",
      "   9.5507e-01    1.3370e+00 \n",
      "   1.0000e+00    1.3956e+00 \n"
     ]
    }
   ],
   "source": [
    "x = 0.0 # beginning of interval\n",
    "x_stop = 1.0 # end of interval\n",
    "y = np.array([1.0]) # initial value of y: y(0) = 1\n",
    "h = 0.1 # initial step size\n",
    "freq = 4 # frequency of printing out values\n",
    "X, Y = adaptive_runge_kutta_2_3(F, x, y, x_stop, h, 1.0e-5)\n",
    "printSoln(X, Y, freq)"
   ]
  },
  {
   "cell_type": "code",
   "execution_count": 5,
   "metadata": {
    "collapsed": true
   },
   "outputs": [],
   "source": [
    "# analytical solution\n",
    "def anal_F(x):\n",
    "    return np.exp(x**3 / 3.0)"
   ]
  },
  {
   "cell_type": "code",
   "execution_count": 6,
   "metadata": {
    "collapsed": false
   },
   "outputs": [
    {
     "data": {
      "image/png": "[encoded data removed]",
      "text/plain": [
       "<matplotlib.figure.Figure at 0x43e4400>"
      ]
     },
     "metadata": {},
     "output_type": "display_data"
    }
   ],
   "source": [
    "plt.plot(X, Y[:, 0], 'o-', X, anal_F(X), 'r+-') \n",
    "plt.xlabel('x')\n",
    "plt.legend(('y', \"y_anal\"), loc=0)\n",
    "plt.grid(True)\n",
    "plt.show()"
   ]
  },
  {
   "cell_type": "code",
   "execution_count": null,
   "metadata": {
    "collapsed": true
   },
   "outputs": [],
   "source": []
  }
 ],
 "metadata": {
  "kernelspec": {
   "display_name": "Python [Anaconda3]",
   "language": "python",
   "name": "Python [Anaconda3]"
  },
  "language_info": {
   "codemirror_mode": {
    "name": "ipython",
    "version": 3
   },
   "file_extension": ".py",
   "mimetype": "text/x-python",
   "name": "python",
   "nbconvert_exporter": "python",
   "pygments_lexer": "ipython3",
   "version": "3.5.6"
  }
 },
 "nbformat": 4,
 "nbformat_minor": 0
}
