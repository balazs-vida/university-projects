{
 "cells": [
  {
   "cell_type": "code",
   "execution_count": 1,
   "metadata": {
    "collapsed": true
   },
   "outputs": [],
   "source": [
    "\"\"\"\n",
    "Kiusalaas: Example 7.9 (page 279)\n",
    "An example of a moderately stiff problem.\n",
    "\n",
    "NB. The differential equation y' = -Ay (where A is the coefficient matrix\n",
    "    is said to be stiff if there is a large disparity in the magnitudes\n",
    "    of the positive eigenvalues of A.\n",
    "    \n",
    "For instance, in the example of second-order linear homogenous DE below,\n",
    "    the two eigenvalues are \\lambda_1 = 1/2 and \\lambda_2 = 19/2,\n",
    "    thus their ratio (the so-called stiffness ratio) is 19/2 / 1/2 = 19 >> 1.\n",
    "    \n",
    "Notice in the plot how dense the points are near x = 0 where there is a rapid \n",
    "    change in y', while they become more sparse as the y'-curve becomes smoother.\n",
    "    This is the power of an adaptive method -- it will find an appropriate\n",
    "    step size (h_next) in each iteration. (Of course, this type of method is\n",
    "    not a panacea that can handle every kind of initial value problems.\n",
    "    One can construct ill-behaved stiff examples, see for example Exercise 9\n",
    "    on p. 288.)\n",
    "\"\"\"\n",
    "\n",
    "import numpy as np\n",
    "%matplotlib inline\n",
    "import matplotlib.pyplot as plt\n",
    "from runge_kutta_e2 import *\n",
    "from printSoln import *"
   ]
  },
  {
   "cell_type": "code",
   "execution_count": 2,
   "metadata": {
    "collapsed": true
   },
   "outputs": [],
   "source": [
    "def F(x, y):\n",
    "    F = np.zeros(2)\n",
    "    F[0] = y[1]\n",
    "    F[1] = -(19/4)*y[0] - 10.0*y[1] # y'' = -19/4y - 10y'\n",
    "    return F"
   ]
  },
  {
   "cell_type": "code",
   "execution_count": 3,
   "metadata": {
    "collapsed": false
   },
   "outputs": [
    {
     "name": "stdout",
     "output_type": "stream",
     "text": [
      "\n",
      " x   y[ 0 ]   y[ 1 ]  \n",
      "   0.0000e+00   -9.0000e+00    0.0000e+00 \n",
      "   4.6325e-02   -8.9605e+00    1.5824e+00 \n",
      "   9.8929e-02   -8.8462e+00    2.6651e+00 \n",
      "   1.6189e-01   -8.6539e+00    3.3604e+00 \n",
      "   2.4026e-01   -8.3736e+00    3.7279e+00 \n",
      "   3.4414e-01   -7.9792e+00    3.8187e+00 \n",
      "   4.9906e-01   -7.3977e+00    3.6598e+00 \n",
      "   8.3492e-01   -6.2577e+00    3.1277e+00 \n",
      "   1.5252e+00   -4.4313e+00    2.2157e+00 \n",
      "   2.3691e+00   -2.9058e+00    1.4529e+00 \n",
      "   3.3492e+00   -1.7800e+00    8.9002e-01 \n",
      "   4.5175e+00   -9.9239e-01    4.9619e-01 \n",
      "   5.9637e+00   -4.8147e-01    2.4073e-01 \n",
      "   7.6867e+00   -2.0332e-01    1.0155e-01 \n",
      "   8.7775e+00   -1.1783e-01    5.8756e-02 \n",
      "   9.8554e+00   -6.8721e-02    3.4152e-02 \n",
      "   1.0000e+01   -6.3945e-02    3.1944e-02 \n"
     ]
    }
   ],
   "source": [
    "x = 0.0\n",
    "x_stop = 10.0\n",
    "y = np.array([-9.0, 0.0]) # y(0) = -9, y'(0) = 0\n",
    "h = 0.1\n",
    "freq = 4\n",
    "X, Y = adaptive_runge_kutta_2_3(F, x, y, x_stop, h, 1.0e-4)\n",
    "printSoln(X, Y, freq)"
   ]
  },
  {
   "cell_type": "code",
   "execution_count": 4,
   "metadata": {
    "collapsed": true
   },
   "outputs": [],
   "source": [
    "# analytical solution\n",
    "def anal_F(x):\n",
    "    return 0.5 * np.exp(-19/2 * x) * (1 - 19 * np.exp(9 * x))"
   ]
  },
  {
   "cell_type": "code",
   "execution_count": 5,
   "metadata": {
    "collapsed": false
   },
   "outputs": [
    {
     "data": {
      "image/png": "[encoded data removed]",
      "text/plain": [
       "<matplotlib.figure.Figure at 0x742ccf8>"
      ]
     },
     "metadata": {},
     "output_type": "display_data"
    }
   ],
   "source": [
    "plt.plot(X, Y[:, 0], 'o-', X, Y[:, 1], '^-', X, anal_F(X), '+-')\n",
    "plt.xlabel('x')\n",
    "plt.legend(('y',\"y'\", 'y_anal'), loc=0)\n",
    "plt.grid(True)\n",
    "plt.show()"
   ]
  },
  {
   "cell_type": "code",
   "execution_count": null,
   "metadata": {
    "collapsed": true
   },
   "outputs": [],
   "source": []
  }
 ],
 "metadata": {
  "kernelspec": {
   "display_name": "Python [Anaconda3]",
   "language": "python",
   "name": "Python [Anaconda3]"
  },
  "language_info": {
   "codemirror_mode": {
    "name": "ipython",
    "version": 3
   },
   "file_extension": ".py",
   "mimetype": "text/x-python",
   "name": "python",
   "nbconvert_exporter": "python",
   "pygments_lexer": "ipython3",
   "version": "3.5.6"
  }
 },
 "nbformat": 4,
 "nbformat_minor": 0
}
