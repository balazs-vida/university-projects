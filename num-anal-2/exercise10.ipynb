{
 "cells": [
  {
   "cell_type": "code",
   "execution_count": 8,
   "metadata": {
    "collapsed": true
   },
   "outputs": [],
   "source": [
    "\"\"\"\n",
    "Kiusalaas: Problem Set 7.2, Exercise 10 (page 288)\n",
    "\"\"\"\n",
    "\n",
    "import numpy as np\n",
    "%matplotlib inline\n",
    "import matplotlib.pyplot as plt\n",
    "from runge_kutta_e2 import *\n",
    "from printSoln import *"
   ]
  },
  {
   "cell_type": "code",
   "execution_count": 9,
   "metadata": {
    "collapsed": true
   },
   "outputs": [],
   "source": [
    "def F(x ,y):\n",
    "    F = np.zeros(2)\n",
    "    F[0] = y[1]\n",
    "    F[1] = -2 * y[1] - 3 * y[0] # y'' + 2y' + 3y = 0\n",
    "    return F"
   ]
  },
  {
   "cell_type": "code",
   "execution_count": 10,
   "metadata": {
    "collapsed": false
   },
   "outputs": [
    {
     "name": "stdout",
     "output_type": "stream",
     "text": [
      "\n",
      " x   y[ 0 ]   y[ 1 ]  \n",
      "   0.0000e+00    0.0000e+00    1.4142e+00 \n",
      "   8.2666e-01    4.0312e-01   -1.5826e-01 \n",
      "   1.8738e+00    7.4599e-02   -2.6632e-01 \n",
      "   3.5756e+00   -2.8062e-02    3.8655e-02 \n",
      "   5.0000e+00    3.8911e-03    4.7301e-03 \n"
     ]
    }
   ],
   "source": [
    "x = 0.0\n",
    "x_stop = 5\n",
    "y = np.array([0.0, np.sqrt(2)]) # y(0) = 0.0,  y'(0) = sqrt(2)\n",
    "h = 0.1\n",
    "freq = 4\n",
    "X, Y = adaptive_runge_kutta_2_3(F, x, y, x_stop, h, 1.0e-3)\n",
    "printSoln(X, Y, freq)"
   ]
  },
  {
   "cell_type": "code",
   "execution_count": 11,
   "metadata": {
    "collapsed": true
   },
   "outputs": [],
   "source": [
    "# analytical solution\n",
    "def anal_F(x):\n",
    "    return np.exp(-x) * np.sin(np.sqrt(2)*x)"
   ]
  },
  {
   "cell_type": "code",
   "execution_count": 12,
   "metadata": {
    "collapsed": false
   },
   "outputs": [
    {
     "data": {
      "image/png": "[encoded data removed]",
      "text/plain": [
       "<matplotlib.figure.Figure at 0x7878588>"
      ]
     },
     "metadata": {},
     "output_type": "display_data"
    }
   ],
   "source": [
    "plt.plot(X, Y[:, 0], 'o-', X, Y[:, 1], '^-', X, anal_F(X), '+-')\n",
    "plt.xlabel('x')\n",
    "plt.legend(('y',\"y'\", 'y_anal'), loc=0)\n",
    "plt.grid(True)\n",
    "plt.show()"
   ]
  },
  {
   "cell_type": "code",
   "execution_count": null,
   "metadata": {
    "collapsed": true
   },
   "outputs": [],
   "source": []
  }
 ],
 "metadata": {
  "kernelspec": {
   "display_name": "Python [Root]",
   "language": "python",
   "name": "Python [Root]"
  },
  "language_info": {
   "codemirror_mode": {
    "name": "ipython",
    "version": 3
   },
   "file_extension": ".py",
   "mimetype": "text/x-python",
   "name": "python",
   "nbconvert_exporter": "python",
   "pygments_lexer": "ipython3",
   "version": "3.5.6"
  }
 },
 "nbformat": 4,
 "nbformat_minor": 0
}
